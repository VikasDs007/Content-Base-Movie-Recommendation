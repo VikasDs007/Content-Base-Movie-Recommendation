{
 "cells": [
  {
   "cell_type": "code",
   "execution_count": 14,
   "id": "98236cb9",
   "metadata": {},
   "outputs": [],
   "source": [
    "import pandas as pd\n",
    "import numpy as np\n",
    "import difflib\n",
    "from sklearn.feature_extraction.text import TfidfVectorizer\n",
    "from sklearn.metrics.pairwise import cosine_similarity"
   ]
  },
  {
   "cell_type": "code",
   "execution_count": 15,
   "id": "44d4173e",
   "metadata": {},
   "outputs": [],
   "source": [
    "import pandas as pd\n",
    "movie_data = pd.read_csv(r\"D:\\Git repo\\Content-Base-Movie-Recommendation\\data\\movies.csv\")"
   ]
  },
  {
   "cell_type": "code",
   "execution_count": 16,
   "id": "72924ac1",
   "metadata": {},
   "outputs": [
    {
     "data": {
      "text/html": [
       "<div>\n",
       "<style scoped>\n",
       "    .dataframe tbody tr th:only-of-type {\n",
       "        vertical-align: middle;\n",
       "    }\n",
       "\n",
       "    .dataframe tbody tr th {\n",
       "        vertical-align: top;\n",
       "    }\n",
       "\n",
       "    .dataframe thead th {\n",
       "        text-align: right;\n",
       "    }\n",
       "</style>\n",
       "<table border=\"1\" class=\"dataframe\">\n",
       "  <thead>\n",
       "    <tr style=\"text-align: right;\">\n",
       "      <th></th>\n",
       "      <th>id</th>\n",
       "      <th>title</th>\n",
       "      <th>year</th>\n",
       "      <th>duration</th>\n",
       "      <th>MPA</th>\n",
       "      <th>rating</th>\n",
       "      <th>votes</th>\n",
       "      <th>meta_score</th>\n",
       "      <th>description</th>\n",
       "      <th>Movie_Link</th>\n",
       "      <th>...</th>\n",
       "      <th>opening_weekend_gross</th>\n",
       "      <th>gross_worldwide</th>\n",
       "      <th>gross_us_canada</th>\n",
       "      <th>release_date</th>\n",
       "      <th>countries_origin</th>\n",
       "      <th>filming_locations</th>\n",
       "      <th>production_companies</th>\n",
       "      <th>awards_content</th>\n",
       "      <th>genres</th>\n",
       "      <th>languages</th>\n",
       "    </tr>\n",
       "  </thead>\n",
       "  <tbody>\n",
       "    <tr>\n",
       "      <th>0</th>\n",
       "      <td>tt0073195</td>\n",
       "      <td>Jaws</td>\n",
       "      <td>1975</td>\n",
       "      <td>2h 4m</td>\n",
       "      <td>PG</td>\n",
       "      <td>8.1</td>\n",
       "      <td>690K</td>\n",
       "      <td>87.0</td>\n",
       "      <td>When a massive killer shark unleashes chaos on...</td>\n",
       "      <td>https://www.imdb.com/title/tt0073195</td>\n",
       "      <td>...</td>\n",
       "      <td>$7,061,513</td>\n",
       "      <td>$477,916,625</td>\n",
       "      <td>$267,263,625</td>\n",
       "      <td>1975.0</td>\n",
       "      <td>['United States']</td>\n",
       "      <td>[\"Water Street, Edgartown, Martha's Vineyard, ...</td>\n",
       "      <td>['Zanuck/Brown Productions', 'Universal Pictur...</td>\n",
       "      <td>Won 3 Oscars, 16 wins &amp; 20 nominations total</td>\n",
       "      <td>['Monster Horror', 'Sea Adventure', 'Survival'...</td>\n",
       "      <td>['English']</td>\n",
       "    </tr>\n",
       "    <tr>\n",
       "      <th>1</th>\n",
       "      <td>tt0073629</td>\n",
       "      <td>The Rocky Horror Picture Show</td>\n",
       "      <td>1975</td>\n",
       "      <td>1h 40m</td>\n",
       "      <td>R</td>\n",
       "      <td>7.4</td>\n",
       "      <td>174K</td>\n",
       "      <td>65.0</td>\n",
       "      <td>A newly-engaged couple have a breakdown in an ...</td>\n",
       "      <td>https://www.imdb.com/title/tt0073629</td>\n",
       "      <td>...</td>\n",
       "      <td>NaN</td>\n",
       "      <td>$115,827,018</td>\n",
       "      <td>$112,892,319</td>\n",
       "      <td>1975.0</td>\n",
       "      <td>['United Kingdom', 'United States']</td>\n",
       "      <td>[\"Oakley Court, Windsor Road, Oakley Green, Wi...</td>\n",
       "      <td>['Twentieth Century Fox', 'Michael White Produ...</td>\n",
       "      <td>Awards, 3 wins &amp; 4 nominations total</td>\n",
       "      <td>['B-Horror', 'Dark Comedy', 'Parody', 'Raunchy...</td>\n",
       "      <td>['English']</td>\n",
       "    </tr>\n",
       "    <tr>\n",
       "      <th>2</th>\n",
       "      <td>tt0073486</td>\n",
       "      <td>One Flew Over the Cuckoo's Nest</td>\n",
       "      <td>1975</td>\n",
       "      <td>2h 13m</td>\n",
       "      <td>R</td>\n",
       "      <td>8.7</td>\n",
       "      <td>1.1M</td>\n",
       "      <td>84.0</td>\n",
       "      <td>In the Fall of 1963, a Korean War veteran and ...</td>\n",
       "      <td>https://www.imdb.com/title/tt0073486</td>\n",
       "      <td>...</td>\n",
       "      <td>NaN</td>\n",
       "      <td>$109,115,366</td>\n",
       "      <td>$108,981,275</td>\n",
       "      <td>1975.0</td>\n",
       "      <td>['United States']</td>\n",
       "      <td>['Oregon State Mental Hospital - 2600 Center S...</td>\n",
       "      <td>['Fantasy Films', 'N.V. Zvaluw']</td>\n",
       "      <td>Won 5 Oscars, 38 wins &amp; 15 nominations total</td>\n",
       "      <td>['Medical Drama', 'Psychological Drama', 'Drama']</td>\n",
       "      <td>['English']</td>\n",
       "    </tr>\n",
       "    <tr>\n",
       "      <th>3</th>\n",
       "      <td>tt0072890</td>\n",
       "      <td>Dog Day Afternoon</td>\n",
       "      <td>1975</td>\n",
       "      <td>2h 5m</td>\n",
       "      <td>R</td>\n",
       "      <td>8.0</td>\n",
       "      <td>281K</td>\n",
       "      <td>86.0</td>\n",
       "      <td>Three amateur robbers plan to hold up a Brookl...</td>\n",
       "      <td>https://www.imdb.com/title/tt0072890</td>\n",
       "      <td>...</td>\n",
       "      <td>NaN</td>\n",
       "      <td>$50,004,527</td>\n",
       "      <td>$50,000,000</td>\n",
       "      <td>1975.0</td>\n",
       "      <td>['United States']</td>\n",
       "      <td>['285 Prospect Park West, Brooklyn, New York C...</td>\n",
       "      <td>['Warner Bros.', 'Artists Entertainment Complex']</td>\n",
       "      <td>Won 1 Oscar, 14 wins &amp; 20 nominations total</td>\n",
       "      <td>['Dark Comedy', 'Heist', 'True Crime', 'Biogra...</td>\n",
       "      <td>['English']</td>\n",
       "    </tr>\n",
       "    <tr>\n",
       "      <th>4</th>\n",
       "      <td>tt0073692</td>\n",
       "      <td>Shampoo</td>\n",
       "      <td>1975</td>\n",
       "      <td>1h 50m</td>\n",
       "      <td>R</td>\n",
       "      <td>6.4</td>\n",
       "      <td>15K</td>\n",
       "      <td>65.0</td>\n",
       "      <td>On Election Day, 1968, irresponsible hairdress...</td>\n",
       "      <td>https://www.imdb.com/title/tt0073692</td>\n",
       "      <td>...</td>\n",
       "      <td>NaN</td>\n",
       "      <td>$49,407,734</td>\n",
       "      <td>$49,407,734</td>\n",
       "      <td>1975.0</td>\n",
       "      <td>['United States']</td>\n",
       "      <td>[\"2270 Bowmont Drive, Beverly Hills, Californi...</td>\n",
       "      <td>['Persky-Bright / Vista', 'Columbia Pictures',...</td>\n",
       "      <td>Won 1 Oscar, 3 wins &amp; 11 nominations total</td>\n",
       "      <td>['Satire', 'Comedy', 'Drama']</td>\n",
       "      <td>['English']</td>\n",
       "    </tr>\n",
       "  </tbody>\n",
       "</table>\n",
       "<p>5 rows × 24 columns</p>\n",
       "</div>"
      ],
      "text/plain": [
       "          id                            title  year duration MPA  rating  \\\n",
       "0  tt0073195                             Jaws  1975    2h 4m  PG     8.1   \n",
       "1  tt0073629    The Rocky Horror Picture Show  1975   1h 40m   R     7.4   \n",
       "2  tt0073486  One Flew Over the Cuckoo's Nest  1975   2h 13m   R     8.7   \n",
       "3  tt0072890                Dog Day Afternoon  1975    2h 5m   R     8.0   \n",
       "4  tt0073692                          Shampoo  1975   1h 50m   R     6.4   \n",
       "\n",
       "  votes  meta_score                                        description  \\\n",
       "0  690K        87.0  When a massive killer shark unleashes chaos on...   \n",
       "1  174K        65.0  A newly-engaged couple have a breakdown in an ...   \n",
       "2  1.1M        84.0  In the Fall of 1963, a Korean War veteran and ...   \n",
       "3  281K        86.0  Three amateur robbers plan to hold up a Brookl...   \n",
       "4   15K        65.0  On Election Day, 1968, irresponsible hairdress...   \n",
       "\n",
       "                             Movie_Link  ... opening_weekend_gross  \\\n",
       "0  https://www.imdb.com/title/tt0073195  ...            $7,061,513   \n",
       "1  https://www.imdb.com/title/tt0073629  ...                   NaN   \n",
       "2  https://www.imdb.com/title/tt0073486  ...                   NaN   \n",
       "3  https://www.imdb.com/title/tt0072890  ...                   NaN   \n",
       "4  https://www.imdb.com/title/tt0073692  ...                   NaN   \n",
       "\n",
       "  gross_worldwide gross_us_canada release_date  \\\n",
       "0    $477,916,625    $267,263,625       1975.0   \n",
       "1    $115,827,018    $112,892,319       1975.0   \n",
       "2    $109,115,366    $108,981,275       1975.0   \n",
       "3     $50,004,527     $50,000,000       1975.0   \n",
       "4     $49,407,734     $49,407,734       1975.0   \n",
       "\n",
       "                      countries_origin  \\\n",
       "0                    ['United States']   \n",
       "1  ['United Kingdom', 'United States']   \n",
       "2                    ['United States']   \n",
       "3                    ['United States']   \n",
       "4                    ['United States']   \n",
       "\n",
       "                                   filming_locations  \\\n",
       "0  [\"Water Street, Edgartown, Martha's Vineyard, ...   \n",
       "1  [\"Oakley Court, Windsor Road, Oakley Green, Wi...   \n",
       "2  ['Oregon State Mental Hospital - 2600 Center S...   \n",
       "3  ['285 Prospect Park West, Brooklyn, New York C...   \n",
       "4  [\"2270 Bowmont Drive, Beverly Hills, Californi...   \n",
       "\n",
       "                                production_companies  \\\n",
       "0  ['Zanuck/Brown Productions', 'Universal Pictur...   \n",
       "1  ['Twentieth Century Fox', 'Michael White Produ...   \n",
       "2                   ['Fantasy Films', 'N.V. Zvaluw']   \n",
       "3  ['Warner Bros.', 'Artists Entertainment Complex']   \n",
       "4  ['Persky-Bright / Vista', 'Columbia Pictures',...   \n",
       "\n",
       "                                 awards_content  \\\n",
       "0  Won 3 Oscars, 16 wins & 20 nominations total   \n",
       "1          Awards, 3 wins & 4 nominations total   \n",
       "2  Won 5 Oscars, 38 wins & 15 nominations total   \n",
       "3   Won 1 Oscar, 14 wins & 20 nominations total   \n",
       "4    Won 1 Oscar, 3 wins & 11 nominations total   \n",
       "\n",
       "                                              genres    languages  \n",
       "0  ['Monster Horror', 'Sea Adventure', 'Survival'...  ['English']  \n",
       "1  ['B-Horror', 'Dark Comedy', 'Parody', 'Raunchy...  ['English']  \n",
       "2  ['Medical Drama', 'Psychological Drama', 'Drama']  ['English']  \n",
       "3  ['Dark Comedy', 'Heist', 'True Crime', 'Biogra...  ['English']  \n",
       "4                      ['Satire', 'Comedy', 'Drama']  ['English']  \n",
       "\n",
       "[5 rows x 24 columns]"
      ]
     },
     "execution_count": 16,
     "metadata": {},
     "output_type": "execute_result"
    }
   ],
   "source": [
    "movie_data.head()"
   ]
  },
  {
   "cell_type": "code",
   "execution_count": 17,
   "id": "9450ae17",
   "metadata": {},
   "outputs": [
    {
     "data": {
      "text/plain": [
       "(63249, 24)"
      ]
     },
     "execution_count": 17,
     "metadata": {},
     "output_type": "execute_result"
    }
   ],
   "source": [
    "movie_data.shape"
   ]
  },
  {
   "cell_type": "code",
   "execution_count": 18,
   "id": "3ae5e40c",
   "metadata": {},
   "outputs": [
    {
     "data": {
      "text/plain": [
       "Index(['id', 'title', 'year', 'duration', 'MPA', 'rating', 'votes',\n",
       "       'meta_score', 'description', 'Movie_Link', 'writers', 'directors',\n",
       "       'stars', 'budget', 'opening_weekend_gross', 'gross_worldwide',\n",
       "       'gross_us_canada', 'release_date', 'countries_origin',\n",
       "       'filming_locations', 'production_companies', 'awards_content', 'genres',\n",
       "       'languages'],\n",
       "      dtype='object')"
      ]
     },
     "execution_count": 18,
     "metadata": {},
     "output_type": "execute_result"
    }
   ],
   "source": [
    "movie_data.columns\n"
   ]
  },
  {
   "cell_type": "code",
   "execution_count": 19,
   "id": "763d0473",
   "metadata": {},
   "outputs": [],
   "source": [
    "selected_features = ['genres', 'description', 'directors', 'stars']\n"
   ]
  },
  {
   "cell_type": "code",
   "execution_count": 20,
   "id": "47a76b71",
   "metadata": {},
   "outputs": [],
   "source": [
    "for feature in selected_features:\n",
    "    movie_data[feature] = movie_data[feature].fillna('')"
   ]
  },
  {
   "cell_type": "code",
   "execution_count": 22,
   "id": "7ea41ca8",
   "metadata": {},
   "outputs": [],
   "source": [
    "combined_features = movie_data['genres'] + ' ' + movie_data['description'] + ' ' + movie_data['directors'] + ' ' + movie_data['stars']"
   ]
  },
  {
   "cell_type": "code",
   "execution_count": 23,
   "id": "b4093a95",
   "metadata": {},
   "outputs": [
    {
     "data": {
      "text/plain": [
       "0        ['Monster Horror', 'Sea Adventure', 'Survival'...\n",
       "1        ['B-Horror', 'Dark Comedy', 'Parody', 'Raunchy...\n",
       "2        ['Medical Drama', 'Psychological Drama', 'Dram...\n",
       "3        ['Dark Comedy', 'Heist', 'True Crime', 'Biogra...\n",
       "4        ['Satire', 'Comedy', 'Drama'] On Election Day,...\n",
       "                               ...                        \n",
       "63244    ['Slasher Horror', 'Horror'] A guy and four of...\n",
       "63245    ['Action', 'Crime', 'Thriller'] When a courier...\n",
       "63246    ['Adventure', 'Comedy', 'Drama', 'Family'] On ...\n",
       "63247    ['Monster Horror', 'Supernatural Horror', 'Hor...\n",
       "63248    ['Adventure'] After a man's wife is killed by ...\n",
       "Length: 63249, dtype: object"
      ]
     },
     "execution_count": 23,
     "metadata": {},
     "output_type": "execute_result"
    }
   ],
   "source": [
    "combined_features"
   ]
  },
  {
   "cell_type": "code",
   "execution_count": 24,
   "id": "7e764196",
   "metadata": {},
   "outputs": [],
   "source": [
    "from numpy import vectorize\n",
    "\n",
    "\n",
    "vectorize = TfidfVectorizer()"
   ]
  },
  {
   "cell_type": "code",
   "execution_count": 25,
   "id": "ed47cd15",
   "metadata": {},
   "outputs": [],
   "source": [
    "feature_vectors = vectorize.fit_transform(combined_features)"
   ]
  },
  {
   "cell_type": "code",
   "execution_count": 26,
   "id": "692e8bfe",
   "metadata": {},
   "outputs": [
    {
     "data": {
      "text/plain": [
       "<Compressed Sparse Row sparse matrix of dtype 'float64'\n",
       "\twith 3399525 stored elements and shape (63249, 157942)>"
      ]
     },
     "execution_count": 26,
     "metadata": {},
     "output_type": "execute_result"
    }
   ],
   "source": [
    "feature_vectors"
   ]
  },
  {
   "cell_type": "code",
   "execution_count": 29,
   "id": "bf49fc30",
   "metadata": {},
   "outputs": [],
   "source": [
    "# Work with a subset of 10K movies initially\n",
    "subset_data = movie_data.sample(n=10000, random_state=42)"
   ]
  },
  {
   "cell_type": "code",
   "execution_count": 30,
   "id": "642b5d15",
   "metadata": {},
   "outputs": [],
   "source": [
    "# Use TfidfVectorizer with sparse output\n",
    "tfidf = TfidfVectorizer(max_features=5000)\n",
    "sparse_features = tfidf.fit_transform(combined_features)"
   ]
  },
  {
   "cell_type": "code",
   "execution_count": 31,
   "id": "3678ed39",
   "metadata": {},
   "outputs": [
    {
     "ename": "TypeError",
     "evalue": "sparse array length is ambiguous; use getnnz() or shape[0]",
     "output_type": "error",
     "traceback": [
      "\u001b[1;31m---------------------------------------------------------------------------\u001b[0m",
      "\u001b[1;31mTypeError\u001b[0m                                 Traceback (most recent call last)",
      "Cell \u001b[1;32mIn[31], line 3\u001b[0m\n\u001b[0;32m      1\u001b[0m \u001b[38;5;66;03m# Calculate similarity in batches\u001b[39;00m\n\u001b[0;32m      2\u001b[0m batch_size \u001b[38;5;241m=\u001b[39m \u001b[38;5;241m1000\u001b[39m\n\u001b[1;32m----> 3\u001b[0m \u001b[38;5;28;01mfor\u001b[39;00m i \u001b[38;5;129;01min\u001b[39;00m \u001b[38;5;28mrange\u001b[39m(\u001b[38;5;241m0\u001b[39m, \u001b[38;5;28mlen\u001b[39m(sparse_features), batch_size):\n\u001b[0;32m      4\u001b[0m     batch_similarity \u001b[38;5;241m=\u001b[39m cosine_similarity(sparse_features[i:i\u001b[38;5;241m+\u001b[39mbatch_size])\n",
      "File \u001b[1;32mc:\\Users\\vikas\\anaconda3\\Lib\\site-packages\\scipy\\sparse\\_base.py:425\u001b[0m, in \u001b[0;36m_spbase.__len__\u001b[1;34m(self)\u001b[0m\n\u001b[0;32m    424\u001b[0m \u001b[38;5;28;01mdef\u001b[39;00m\u001b[38;5;250m \u001b[39m\u001b[38;5;21m__len__\u001b[39m(\u001b[38;5;28mself\u001b[39m):\n\u001b[1;32m--> 425\u001b[0m     \u001b[38;5;28;01mraise\u001b[39;00m \u001b[38;5;167;01mTypeError\u001b[39;00m(\u001b[38;5;124m\"\u001b[39m\u001b[38;5;124msparse array length is ambiguous; use getnnz()\u001b[39m\u001b[38;5;124m\"\u001b[39m\n\u001b[0;32m    426\u001b[0m                     \u001b[38;5;124m\"\u001b[39m\u001b[38;5;124m or shape[0]\u001b[39m\u001b[38;5;124m\"\u001b[39m)\n",
      "\u001b[1;31mTypeError\u001b[0m: sparse array length is ambiguous; use getnnz() or shape[0]"
     ]
    }
   ],
   "source": [
    "# Optimized feature processing\n",
    "from scipy.sparse import lil_matrix\n",
    "max_features = 5000\n",
    "batch_size = 500\n",
    "tfidf = TfidfVectorizer(max_features=max_features)\n",
    "sparse_features = tfidf.fit_transform(combined_features)\n",
    "\n",
    "# Memory-efficient batch processing\n",
    "similarity_matrix = lil_matrix((sparse_features.shape[0], sparse_features.shape[0]))\n",
    "\n",
    "for i in range(0, sparse_features.shape[0], batch_size):\n",
    "    batch_end = min(i+batch_size, sparse_features.shape[0])\n",
    "    batch = sparse_features[i:batch_end].astype('float32')\n",
    "    similarity_matrix[i:batch_end] = cosine_similarity(batch, sparse_features)\n",
    "    \n",
    "# Clean up memory\n",
    "del batch\n",
    "similarity_matrix = similarity_matrix.tocsr()"
   ]
  },
  {
   "cell_type": "code",
   "execution_count": null,
   "id": "eaf483a5",
   "metadata": {},
   "outputs": [],
   "source": []
  }
 ],
 "metadata": {
  "kernelspec": {
   "display_name": "base",
   "language": "python",
   "name": "python3"
  },
  "language_info": {
   "codemirror_mode": {
    "name": "ipython",
    "version": 3
   },
   "file_extension": ".py",
   "mimetype": "text/x-python",
   "name": "python",
   "nbconvert_exporter": "python",
   "pygments_lexer": "ipython3",
   "version": "3.13.5"
  }
 },
 "nbformat": 4,
 "nbformat_minor": 5
}
